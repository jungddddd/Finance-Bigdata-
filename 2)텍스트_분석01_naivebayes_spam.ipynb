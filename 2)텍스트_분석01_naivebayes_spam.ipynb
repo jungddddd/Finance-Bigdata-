{
  "cells": [
    {
      "cell_type": "markdown",
      "metadata": {
        "id": "view-in-github",
        "colab_type": "text"
      },
      "source": [
        "<a href=\"https://colab.research.google.com/github/jungddddd/Finance-Bigdata-/blob/main/2)%ED%85%8D%EC%8A%A4%ED%8A%B8_%EB%B6%84%EC%84%9D01_naivebayes_spam.ipynb\" target=\"_parent\"><img src=\"https://colab.research.google.com/assets/colab-badge.svg\" alt=\"Open In Colab\"/></a>"
      ]
    },
    {
      "cell_type": "markdown",
      "metadata": {
        "id": "TVpjTIalTOEI"
      },
      "source": [
        "### 베르누이 나이브베이즈\n",
        "- 데이터 : https://www.kaggle.com/team-ai/spam-text-message-classification"
      ]
    },
    {
      "cell_type": "code",
      "execution_count": null,
      "metadata": {
        "id": "SuTkOCHxTOEM"
      },
      "outputs": [],
      "source": [
        "# 필요한 모듈 불러오기\n",
        "import pandas as pd\n",
        "\n",
        "from sklearn.feature_extraction.text import CountVectorizer\n",
        "from sklearn.naive_bayes import BernoulliNB\n",
        "from sklearn.model_selection import train_test_split\n",
        "from sklearn.metrics import accuracy_score"
      ]
    },
    {
      "cell_type": "code",
      "source": [
        "from google.colab import drive\n",
        "drive.mount('/content/drive')"
      ],
      "metadata": {
        "id": "IhaTTjwXTmA1",
        "colab": {
          "base_uri": "https://localhost:8080/"
        },
        "outputId": "cc369590-b757-4d60-964f-eb68672aa2c3"
      },
      "execution_count": null,
      "outputs": [
        {
          "output_type": "stream",
          "name": "stdout",
          "text": [
            "Mounted at /content/drive\n"
          ]
        }
      ]
    },
    {
      "cell_type": "code",
      "execution_count": null,
      "metadata": {
        "id": "uzLiYZUbTOEQ",
        "colab": {
          "base_uri": "https://localhost:8080/",
          "height": 206
        },
        "outputId": "9a9eedc7-1483-46bb-ae68-453a874785c1"
      },
      "outputs": [
        {
          "output_type": "execute_result",
          "data": {
            "text/plain": [
              "  Category                                            Message\n",
              "0      ham  Go until jurong point, crazy.. Available only ...\n",
              "1      ham                      Ok lar... Joking wif u oni...\n",
              "2     spam  Free entry in 2 a wkly comp to win FA Cup fina...\n",
              "3      ham  U dun say so early hor... U c already then say...\n",
              "4      ham  Nah I don't think he goes to usf, he lives aro..."
            ],
            "text/html": [
              "\n",
              "\n",
              "  <div id=\"df-2d5049c5-1865-4fb0-861b-05e9a514e49c\">\n",
              "    <div class=\"colab-df-container\">\n",
              "      <div>\n",
              "<style scoped>\n",
              "    .dataframe tbody tr th:only-of-type {\n",
              "        vertical-align: middle;\n",
              "    }\n",
              "\n",
              "    .dataframe tbody tr th {\n",
              "        vertical-align: top;\n",
              "    }\n",
              "\n",
              "    .dataframe thead th {\n",
              "        text-align: right;\n",
              "    }\n",
              "</style>\n",
              "<table border=\"1\" class=\"dataframe\">\n",
              "  <thead>\n",
              "    <tr style=\"text-align: right;\">\n",
              "      <th></th>\n",
              "      <th>Category</th>\n",
              "      <th>Message</th>\n",
              "    </tr>\n",
              "  </thead>\n",
              "  <tbody>\n",
              "    <tr>\n",
              "      <th>0</th>\n",
              "      <td>ham</td>\n",
              "      <td>Go until jurong point, crazy.. Available only ...</td>\n",
              "    </tr>\n",
              "    <tr>\n",
              "      <th>1</th>\n",
              "      <td>ham</td>\n",
              "      <td>Ok lar... Joking wif u oni...</td>\n",
              "    </tr>\n",
              "    <tr>\n",
              "      <th>2</th>\n",
              "      <td>spam</td>\n",
              "      <td>Free entry in 2 a wkly comp to win FA Cup fina...</td>\n",
              "    </tr>\n",
              "    <tr>\n",
              "      <th>3</th>\n",
              "      <td>ham</td>\n",
              "      <td>U dun say so early hor... U c already then say...</td>\n",
              "    </tr>\n",
              "    <tr>\n",
              "      <th>4</th>\n",
              "      <td>ham</td>\n",
              "      <td>Nah I don't think he goes to usf, he lives aro...</td>\n",
              "    </tr>\n",
              "  </tbody>\n",
              "</table>\n",
              "</div>\n",
              "      <button class=\"colab-df-convert\" onclick=\"convertToInteractive('df-2d5049c5-1865-4fb0-861b-05e9a514e49c')\"\n",
              "              title=\"Convert this dataframe to an interactive table.\"\n",
              "              style=\"display:none;\">\n",
              "\n",
              "  <svg xmlns=\"http://www.w3.org/2000/svg\" height=\"24px\"viewBox=\"0 0 24 24\"\n",
              "       width=\"24px\">\n",
              "    <path d=\"M0 0h24v24H0V0z\" fill=\"none\"/>\n",
              "    <path d=\"M18.56 5.44l.94 2.06.94-2.06 2.06-.94-2.06-.94-.94-2.06-.94 2.06-2.06.94zm-11 1L8.5 8.5l.94-2.06 2.06-.94-2.06-.94L8.5 2.5l-.94 2.06-2.06.94zm10 10l.94 2.06.94-2.06 2.06-.94-2.06-.94-.94-2.06-.94 2.06-2.06.94z\"/><path d=\"M17.41 7.96l-1.37-1.37c-.4-.4-.92-.59-1.43-.59-.52 0-1.04.2-1.43.59L10.3 9.45l-7.72 7.72c-.78.78-.78 2.05 0 2.83L4 21.41c.39.39.9.59 1.41.59.51 0 1.02-.2 1.41-.59l7.78-7.78 2.81-2.81c.8-.78.8-2.07 0-2.86zM5.41 20L4 18.59l7.72-7.72 1.47 1.35L5.41 20z\"/>\n",
              "  </svg>\n",
              "      </button>\n",
              "\n",
              "\n",
              "\n",
              "    <div id=\"df-aa357e87-55ae-434e-baab-bd52e17a6a70\">\n",
              "      <button class=\"colab-df-quickchart\" onclick=\"quickchart('df-aa357e87-55ae-434e-baab-bd52e17a6a70')\"\n",
              "              title=\"Suggest charts.\"\n",
              "              style=\"display:none;\">\n",
              "\n",
              "<svg xmlns=\"http://www.w3.org/2000/svg\" height=\"24px\"viewBox=\"0 0 24 24\"\n",
              "     width=\"24px\">\n",
              "    <g>\n",
              "        <path d=\"M19 3H5c-1.1 0-2 .9-2 2v14c0 1.1.9 2 2 2h14c1.1 0 2-.9 2-2V5c0-1.1-.9-2-2-2zM9 17H7v-7h2v7zm4 0h-2V7h2v10zm4 0h-2v-4h2v4z\"/>\n",
              "    </g>\n",
              "</svg>\n",
              "      </button>\n",
              "    </div>\n",
              "\n",
              "<style>\n",
              "  .colab-df-quickchart {\n",
              "    background-color: #E8F0FE;\n",
              "    border: none;\n",
              "    border-radius: 50%;\n",
              "    cursor: pointer;\n",
              "    display: none;\n",
              "    fill: #1967D2;\n",
              "    height: 32px;\n",
              "    padding: 0 0 0 0;\n",
              "    width: 32px;\n",
              "  }\n",
              "\n",
              "  .colab-df-quickchart:hover {\n",
              "    background-color: #E2EBFA;\n",
              "    box-shadow: 0px 1px 2px rgba(60, 64, 67, 0.3), 0px 1px 3px 1px rgba(60, 64, 67, 0.15);\n",
              "    fill: #174EA6;\n",
              "  }\n",
              "\n",
              "  [theme=dark] .colab-df-quickchart {\n",
              "    background-color: #3B4455;\n",
              "    fill: #D2E3FC;\n",
              "  }\n",
              "\n",
              "  [theme=dark] .colab-df-quickchart:hover {\n",
              "    background-color: #434B5C;\n",
              "    box-shadow: 0px 1px 3px 1px rgba(0, 0, 0, 0.15);\n",
              "    filter: drop-shadow(0px 1px 2px rgba(0, 0, 0, 0.3));\n",
              "    fill: #FFFFFF;\n",
              "  }\n",
              "</style>\n",
              "\n",
              "    <script>\n",
              "      async function quickchart(key) {\n",
              "        const containerElement = document.querySelector('#' + key);\n",
              "        const charts = await google.colab.kernel.invokeFunction(\n",
              "            'suggestCharts', [key], {});\n",
              "      }\n",
              "    </script>\n",
              "\n",
              "      <script>\n",
              "\n",
              "function displayQuickchartButton(domScope) {\n",
              "  let quickchartButtonEl =\n",
              "    domScope.querySelector('#df-aa357e87-55ae-434e-baab-bd52e17a6a70 button.colab-df-quickchart');\n",
              "  quickchartButtonEl.style.display =\n",
              "    google.colab.kernel.accessAllowed ? 'block' : 'none';\n",
              "}\n",
              "\n",
              "        displayQuickchartButton(document);\n",
              "      </script>\n",
              "      <style>\n",
              "    .colab-df-container {\n",
              "      display:flex;\n",
              "      flex-wrap:wrap;\n",
              "      gap: 12px;\n",
              "    }\n",
              "\n",
              "    .colab-df-convert {\n",
              "      background-color: #E8F0FE;\n",
              "      border: none;\n",
              "      border-radius: 50%;\n",
              "      cursor: pointer;\n",
              "      display: none;\n",
              "      fill: #1967D2;\n",
              "      height: 32px;\n",
              "      padding: 0 0 0 0;\n",
              "      width: 32px;\n",
              "    }\n",
              "\n",
              "    .colab-df-convert:hover {\n",
              "      background-color: #E2EBFA;\n",
              "      box-shadow: 0px 1px 2px rgba(60, 64, 67, 0.3), 0px 1px 3px 1px rgba(60, 64, 67, 0.15);\n",
              "      fill: #174EA6;\n",
              "    }\n",
              "\n",
              "    [theme=dark] .colab-df-convert {\n",
              "      background-color: #3B4455;\n",
              "      fill: #D2E3FC;\n",
              "    }\n",
              "\n",
              "    [theme=dark] .colab-df-convert:hover {\n",
              "      background-color: #434B5C;\n",
              "      box-shadow: 0px 1px 3px 1px rgba(0, 0, 0, 0.15);\n",
              "      filter: drop-shadow(0px 1px 2px rgba(0, 0, 0, 0.3));\n",
              "      fill: #FFFFFF;\n",
              "    }\n",
              "  </style>\n",
              "\n",
              "      <script>\n",
              "        const buttonEl =\n",
              "          document.querySelector('#df-2d5049c5-1865-4fb0-861b-05e9a514e49c button.colab-df-convert');\n",
              "        buttonEl.style.display =\n",
              "          google.colab.kernel.accessAllowed ? 'block' : 'none';\n",
              "\n",
              "        async function convertToInteractive(key) {\n",
              "          const element = document.querySelector('#df-2d5049c5-1865-4fb0-861b-05e9a514e49c');\n",
              "          const dataTable =\n",
              "            await google.colab.kernel.invokeFunction('convertToInteractive',\n",
              "                                                     [key], {});\n",
              "          if (!dataTable) return;\n",
              "\n",
              "          const docLinkHtml = 'Like what you see? Visit the ' +\n",
              "            '<a target=\"_blank\" href=https://colab.research.google.com/notebooks/data_table.ipynb>data table notebook</a>'\n",
              "            + ' to learn more about interactive tables.';\n",
              "          element.innerHTML = '';\n",
              "          dataTable['output_type'] = 'display_data';\n",
              "          await google.colab.output.renderOutput(dataTable, element);\n",
              "          const docLink = document.createElement('div');\n",
              "          docLink.innerHTML = docLinkHtml;\n",
              "          element.appendChild(docLink);\n",
              "        }\n",
              "      </script>\n",
              "    </div>\n",
              "  </div>\n"
            ]
          },
          "metadata": {},
          "execution_count": 3
        }
      ],
      "source": [
        "# spam 데이터 불러오기\n",
        "data = pd.read_csv(\"/content/drive/MyDrive/Bigdata_ML/III.빅데이터_분석을 _위한_파이썬_기반_머신러닝/3.텍스트/spam.csv\")\n",
        "data.head()"
      ]
    },
    {
      "cell_type": "code",
      "execution_count": null,
      "metadata": {
        "id": "KZqaZWdaTOET",
        "colab": {
          "base_uri": "https://localhost:8080/"
        },
        "outputId": "07ddc219-0fbf-4cc6-9cbe-c32120ee7fd8"
      },
      "outputs": [
        {
          "output_type": "stream",
          "name": "stdout",
          "text": [
            "<class 'pandas.core.frame.DataFrame'>\n",
            "RangeIndex: 5572 entries, 0 to 5571\n",
            "Data columns (total 2 columns):\n",
            " #   Column    Non-Null Count  Dtype \n",
            "---  ------    --------------  ----- \n",
            " 0   Category  5572 non-null   object\n",
            " 1   Message   5572 non-null   object\n",
            "dtypes: object(2)\n",
            "memory usage: 87.2+ KB\n"
          ]
        }
      ],
      "source": [
        "# info 함수로 데이터 정보 확인\n",
        "data.info()"
      ]
    },
    {
      "cell_type": "code",
      "execution_count": null,
      "metadata": {
        "scrolled": false,
        "id": "tlQWxYijTOEU",
        "colab": {
          "base_uri": "https://localhost:8080/",
          "height": 206
        },
        "outputId": "69186bce-c838-4d54-935c-2caf957af10c"
      },
      "outputs": [
        {
          "output_type": "execute_result",
          "data": {
            "text/plain": [
              "  Category                                            Message  label\n",
              "0      ham  Go until jurong point, crazy.. Available only ...      0\n",
              "1      ham                      Ok lar... Joking wif u oni...      0\n",
              "2     spam  Free entry in 2 a wkly comp to win FA Cup fina...      1\n",
              "3      ham  U dun say so early hor... U c already then say...      0\n",
              "4      ham  Nah I don't think he goes to usf, he lives aro...      0"
            ],
            "text/html": [
              "\n",
              "\n",
              "  <div id=\"df-ef287835-971f-4007-ab7e-8673412cd14f\">\n",
              "    <div class=\"colab-df-container\">\n",
              "      <div>\n",
              "<style scoped>\n",
              "    .dataframe tbody tr th:only-of-type {\n",
              "        vertical-align: middle;\n",
              "    }\n",
              "\n",
              "    .dataframe tbody tr th {\n",
              "        vertical-align: top;\n",
              "    }\n",
              "\n",
              "    .dataframe thead th {\n",
              "        text-align: right;\n",
              "    }\n",
              "</style>\n",
              "<table border=\"1\" class=\"dataframe\">\n",
              "  <thead>\n",
              "    <tr style=\"text-align: right;\">\n",
              "      <th></th>\n",
              "      <th>Category</th>\n",
              "      <th>Message</th>\n",
              "      <th>label</th>\n",
              "    </tr>\n",
              "  </thead>\n",
              "  <tbody>\n",
              "    <tr>\n",
              "      <th>0</th>\n",
              "      <td>ham</td>\n",
              "      <td>Go until jurong point, crazy.. Available only ...</td>\n",
              "      <td>0</td>\n",
              "    </tr>\n",
              "    <tr>\n",
              "      <th>1</th>\n",
              "      <td>ham</td>\n",
              "      <td>Ok lar... Joking wif u oni...</td>\n",
              "      <td>0</td>\n",
              "    </tr>\n",
              "    <tr>\n",
              "      <th>2</th>\n",
              "      <td>spam</td>\n",
              "      <td>Free entry in 2 a wkly comp to win FA Cup fina...</td>\n",
              "      <td>1</td>\n",
              "    </tr>\n",
              "    <tr>\n",
              "      <th>3</th>\n",
              "      <td>ham</td>\n",
              "      <td>U dun say so early hor... U c already then say...</td>\n",
              "      <td>0</td>\n",
              "    </tr>\n",
              "    <tr>\n",
              "      <th>4</th>\n",
              "      <td>ham</td>\n",
              "      <td>Nah I don't think he goes to usf, he lives aro...</td>\n",
              "      <td>0</td>\n",
              "    </tr>\n",
              "  </tbody>\n",
              "</table>\n",
              "</div>\n",
              "      <button class=\"colab-df-convert\" onclick=\"convertToInteractive('df-ef287835-971f-4007-ab7e-8673412cd14f')\"\n",
              "              title=\"Convert this dataframe to an interactive table.\"\n",
              "              style=\"display:none;\">\n",
              "\n",
              "  <svg xmlns=\"http://www.w3.org/2000/svg\" height=\"24px\"viewBox=\"0 0 24 24\"\n",
              "       width=\"24px\">\n",
              "    <path d=\"M0 0h24v24H0V0z\" fill=\"none\"/>\n",
              "    <path d=\"M18.56 5.44l.94 2.06.94-2.06 2.06-.94-2.06-.94-.94-2.06-.94 2.06-2.06.94zm-11 1L8.5 8.5l.94-2.06 2.06-.94-2.06-.94L8.5 2.5l-.94 2.06-2.06.94zm10 10l.94 2.06.94-2.06 2.06-.94-2.06-.94-.94-2.06-.94 2.06-2.06.94z\"/><path d=\"M17.41 7.96l-1.37-1.37c-.4-.4-.92-.59-1.43-.59-.52 0-1.04.2-1.43.59L10.3 9.45l-7.72 7.72c-.78.78-.78 2.05 0 2.83L4 21.41c.39.39.9.59 1.41.59.51 0 1.02-.2 1.41-.59l7.78-7.78 2.81-2.81c.8-.78.8-2.07 0-2.86zM5.41 20L4 18.59l7.72-7.72 1.47 1.35L5.41 20z\"/>\n",
              "  </svg>\n",
              "      </button>\n",
              "\n",
              "\n",
              "\n",
              "    <div id=\"df-040f45ef-6faf-40bc-a3ce-e95265fe1e1d\">\n",
              "      <button class=\"colab-df-quickchart\" onclick=\"quickchart('df-040f45ef-6faf-40bc-a3ce-e95265fe1e1d')\"\n",
              "              title=\"Suggest charts.\"\n",
              "              style=\"display:none;\">\n",
              "\n",
              "<svg xmlns=\"http://www.w3.org/2000/svg\" height=\"24px\"viewBox=\"0 0 24 24\"\n",
              "     width=\"24px\">\n",
              "    <g>\n",
              "        <path d=\"M19 3H5c-1.1 0-2 .9-2 2v14c0 1.1.9 2 2 2h14c1.1 0 2-.9 2-2V5c0-1.1-.9-2-2-2zM9 17H7v-7h2v7zm4 0h-2V7h2v10zm4 0h-2v-4h2v4z\"/>\n",
              "    </g>\n",
              "</svg>\n",
              "      </button>\n",
              "    </div>\n",
              "\n",
              "<style>\n",
              "  .colab-df-quickchart {\n",
              "    background-color: #E8F0FE;\n",
              "    border: none;\n",
              "    border-radius: 50%;\n",
              "    cursor: pointer;\n",
              "    display: none;\n",
              "    fill: #1967D2;\n",
              "    height: 32px;\n",
              "    padding: 0 0 0 0;\n",
              "    width: 32px;\n",
              "  }\n",
              "\n",
              "  .colab-df-quickchart:hover {\n",
              "    background-color: #E2EBFA;\n",
              "    box-shadow: 0px 1px 2px rgba(60, 64, 67, 0.3), 0px 1px 3px 1px rgba(60, 64, 67, 0.15);\n",
              "    fill: #174EA6;\n",
              "  }\n",
              "\n",
              "  [theme=dark] .colab-df-quickchart {\n",
              "    background-color: #3B4455;\n",
              "    fill: #D2E3FC;\n",
              "  }\n",
              "\n",
              "  [theme=dark] .colab-df-quickchart:hover {\n",
              "    background-color: #434B5C;\n",
              "    box-shadow: 0px 1px 3px 1px rgba(0, 0, 0, 0.15);\n",
              "    filter: drop-shadow(0px 1px 2px rgba(0, 0, 0, 0.3));\n",
              "    fill: #FFFFFF;\n",
              "  }\n",
              "</style>\n",
              "\n",
              "    <script>\n",
              "      async function quickchart(key) {\n",
              "        const containerElement = document.querySelector('#' + key);\n",
              "        const charts = await google.colab.kernel.invokeFunction(\n",
              "            'suggestCharts', [key], {});\n",
              "      }\n",
              "    </script>\n",
              "\n",
              "      <script>\n",
              "\n",
              "function displayQuickchartButton(domScope) {\n",
              "  let quickchartButtonEl =\n",
              "    domScope.querySelector('#df-040f45ef-6faf-40bc-a3ce-e95265fe1e1d button.colab-df-quickchart');\n",
              "  quickchartButtonEl.style.display =\n",
              "    google.colab.kernel.accessAllowed ? 'block' : 'none';\n",
              "}\n",
              "\n",
              "        displayQuickchartButton(document);\n",
              "      </script>\n",
              "      <style>\n",
              "    .colab-df-container {\n",
              "      display:flex;\n",
              "      flex-wrap:wrap;\n",
              "      gap: 12px;\n",
              "    }\n",
              "\n",
              "    .colab-df-convert {\n",
              "      background-color: #E8F0FE;\n",
              "      border: none;\n",
              "      border-radius: 50%;\n",
              "      cursor: pointer;\n",
              "      display: none;\n",
              "      fill: #1967D2;\n",
              "      height: 32px;\n",
              "      padding: 0 0 0 0;\n",
              "      width: 32px;\n",
              "    }\n",
              "\n",
              "    .colab-df-convert:hover {\n",
              "      background-color: #E2EBFA;\n",
              "      box-shadow: 0px 1px 2px rgba(60, 64, 67, 0.3), 0px 1px 3px 1px rgba(60, 64, 67, 0.15);\n",
              "      fill: #174EA6;\n",
              "    }\n",
              "\n",
              "    [theme=dark] .colab-df-convert {\n",
              "      background-color: #3B4455;\n",
              "      fill: #D2E3FC;\n",
              "    }\n",
              "\n",
              "    [theme=dark] .colab-df-convert:hover {\n",
              "      background-color: #434B5C;\n",
              "      box-shadow: 0px 1px 3px 1px rgba(0, 0, 0, 0.15);\n",
              "      filter: drop-shadow(0px 1px 2px rgba(0, 0, 0, 0.3));\n",
              "      fill: #FFFFFF;\n",
              "    }\n",
              "  </style>\n",
              "\n",
              "      <script>\n",
              "        const buttonEl =\n",
              "          document.querySelector('#df-ef287835-971f-4007-ab7e-8673412cd14f button.colab-df-convert');\n",
              "        buttonEl.style.display =\n",
              "          google.colab.kernel.accessAllowed ? 'block' : 'none';\n",
              "\n",
              "        async function convertToInteractive(key) {\n",
              "          const element = document.querySelector('#df-ef287835-971f-4007-ab7e-8673412cd14f');\n",
              "          const dataTable =\n",
              "            await google.colab.kernel.invokeFunction('convertToInteractive',\n",
              "                                                     [key], {});\n",
              "          if (!dataTable) return;\n",
              "\n",
              "          const docLinkHtml = 'Like what you see? Visit the ' +\n",
              "            '<a target=\"_blank\" href=https://colab.research.google.com/notebooks/data_table.ipynb>data table notebook</a>'\n",
              "            + ' to learn more about interactive tables.';\n",
              "          element.innerHTML = '';\n",
              "          dataTable['output_type'] = 'display_data';\n",
              "          await google.colab.output.renderOutput(dataTable, element);\n",
              "          const docLink = document.createElement('div');\n",
              "          docLink.innerHTML = docLinkHtml;\n",
              "          element.appendChild(docLink);\n",
              "        }\n",
              "      </script>\n",
              "    </div>\n",
              "  </div>\n"
            ]
          },
          "metadata": {},
          "execution_count": 5
        }
      ],
      "source": [
        "# spam 은 1, ham 은 0으로 하는 새로운 label 컬럼 추가\n",
        "data[\"label\"] = data[\"Category\"].map({\"spam\":1,\"ham\":0})\n",
        "data.head()"
      ]
    },
    {
      "cell_type": "code",
      "execution_count": null,
      "metadata": {
        "id": "jYH31eknTOEU",
        "colab": {
          "base_uri": "https://localhost:8080/"
        },
        "outputId": "8220a1ec-4b81-4163-b02d-e7b2bb258505"
      },
      "outputs": [
        {
          "output_type": "stream",
          "name": "stdout",
          "text": [
            "(3900,) (1672,) (3900,) (1672,)\n"
          ]
        }
      ],
      "source": [
        "# X를 Message, y를 label로 지정\n",
        "# train_test_split 함수로 데이터 분할\n",
        "X = data[\"Message\"]\n",
        "y = data[\"label\"]\n",
        "\n",
        "x_train, x_test, y_train, y_test = train_test_split(X, y,\n",
        "                                                    test_size = 0.3,\n",
        "                                                    random_state = 103)\n",
        "\n",
        "print(x_train.shape, x_test.shape, y_train.shape, y_test.shape)"
      ]
    },
    {
      "cell_type": "code",
      "execution_count": null,
      "metadata": {
        "id": "jhj52tmbTOEV"
      },
      "outputs": [],
      "source": [
        "# CounterVectorizer 함수를 이용해 bow 만들기\n",
        "# 최대 단어 개수는 1000개로 지정, binary를 True 로 지정하여 특정 단어가 출현할 경우 1, 출현하지 않을 경우 0으로 표시\n",
        "# 중복되는 경우에도 1로 표시\n",
        "# fit_transform 함수로 x_train 데이터를 변경해 array 로 변환하여 각 단어의 빈도 수를 기록\n",
        "cv = CountVectorizer(max_features=1000, binary=True)\n",
        "x_train_cv = cv.fit_transform(x_train).toarray()"
      ]
    },
    {
      "cell_type": "code",
      "source": [
        "x_train_cv[[0]]"
      ],
      "metadata": {
        "id": "V6qVb7nDBSum",
        "colab": {
          "base_uri": "https://localhost:8080/"
        },
        "outputId": "079df927-11f2-423d-8802-cf1251e0ea7a"
      },
      "execution_count": null,
      "outputs": [
        {
          "output_type": "execute_result",
          "data": {
            "text/plain": [
              "array([[0, 0, 0, 0, 0, 0, 0, 0, 0, 0, 0, 0, 0, 0, 0, 0, 0, 0, 0, 0, 0, 0,\n",
              "        0, 0, 0, 0, 0, 0, 0, 0, 0, 0, 0, 0, 0, 0, 0, 0, 0, 0, 0, 0, 0, 0,\n",
              "        0, 0, 0, 0, 0, 0, 0, 0, 0, 0, 0, 0, 0, 0, 0, 0, 0, 0, 0, 0, 1, 0,\n",
              "        0, 0, 0, 0, 0, 0, 0, 0, 0, 0, 0, 0, 0, 0, 0, 0, 0, 0, 0, 0, 0, 0,\n",
              "        0, 0, 0, 0, 0, 0, 0, 0, 0, 0, 0, 0, 0, 0, 0, 0, 0, 0, 0, 0, 0, 0,\n",
              "        0, 0, 0, 0, 0, 0, 0, 0, 0, 0, 0, 0, 0, 0, 0, 0, 0, 0, 0, 0, 0, 0,\n",
              "        0, 0, 0, 0, 0, 0, 0, 0, 0, 0, 0, 0, 0, 0, 0, 0, 0, 0, 0, 0, 0, 0,\n",
              "        0, 0, 0, 0, 0, 0, 0, 0, 0, 0, 0, 0, 0, 0, 0, 0, 0, 0, 0, 0, 0, 0,\n",
              "        0, 0, 0, 0, 0, 0, 1, 0, 0, 0, 0, 0, 0, 0, 0, 0, 0, 0, 0, 0, 0, 0,\n",
              "        0, 0, 0, 0, 0, 0, 0, 0, 0, 0, 0, 0, 0, 0, 0, 0, 0, 0, 0, 0, 0, 0,\n",
              "        0, 0, 0, 0, 0, 0, 0, 0, 0, 0, 0, 0, 0, 0, 0, 0, 0, 0, 0, 0, 0, 0,\n",
              "        0, 0, 0, 0, 0, 1, 0, 0, 0, 0, 0, 0, 0, 0, 0, 0, 0, 0, 0, 0, 0, 0,\n",
              "        0, 0, 0, 0, 0, 0, 0, 0, 0, 0, 0, 0, 0, 0, 0, 0, 0, 0, 0, 0, 0, 0,\n",
              "        0, 0, 0, 0, 0, 1, 0, 0, 0, 0, 0, 0, 0, 1, 0, 0, 0, 0, 0, 0, 0, 0,\n",
              "        0, 0, 0, 0, 0, 0, 1, 0, 0, 0, 0, 0, 0, 0, 0, 0, 0, 0, 0, 0, 0, 0,\n",
              "        0, 0, 0, 0, 0, 0, 0, 0, 0, 0, 0, 0, 0, 0, 0, 0, 0, 0, 0, 0, 0, 0,\n",
              "        0, 0, 0, 0, 0, 0, 0, 0, 0, 0, 0, 0, 0, 0, 0, 0, 0, 0, 0, 0, 0, 0,\n",
              "        0, 0, 0, 0, 0, 0, 0, 0, 0, 0, 0, 0, 0, 1, 0, 0, 0, 0, 0, 0, 0, 1,\n",
              "        0, 0, 0, 0, 0, 0, 0, 0, 0, 0, 0, 0, 0, 0, 0, 0, 0, 0, 0, 0, 0, 0,\n",
              "        0, 0, 0, 0, 0, 0, 0, 0, 0, 0, 0, 0, 0, 0, 0, 0, 0, 0, 0, 1, 0, 0,\n",
              "        0, 0, 0, 0, 0, 0, 0, 0, 0, 0, 0, 0, 0, 0, 0, 0, 0, 0, 0, 0, 0, 0,\n",
              "        0, 0, 0, 0, 0, 0, 0, 0, 0, 0, 0, 0, 0, 0, 0, 1, 0, 0, 0, 0, 0, 0,\n",
              "        0, 0, 0, 0, 0, 0, 0, 0, 0, 0, 0, 0, 0, 0, 0, 1, 0, 0, 0, 0, 0, 0,\n",
              "        0, 0, 0, 0, 0, 0, 1, 0, 0, 0, 0, 0, 0, 0, 0, 1, 0, 0, 0, 0, 0, 0,\n",
              "        0, 0, 0, 0, 0, 0, 0, 0, 0, 0, 0, 0, 0, 0, 0, 0, 0, 0, 0, 0, 0, 0,\n",
              "        0, 0, 0, 0, 0, 0, 0, 0, 0, 0, 0, 0, 0, 0, 0, 0, 0, 0, 1, 0, 0, 0,\n",
              "        0, 0, 0, 0, 0, 0, 0, 0, 0, 0, 0, 0, 0, 0, 0, 0, 0, 0, 0, 0, 0, 0,\n",
              "        0, 0, 0, 0, 0, 0, 0, 0, 0, 0, 0, 0, 0, 0, 0, 1, 0, 0, 0, 0, 0, 0,\n",
              "        0, 0, 0, 0, 0, 0, 0, 0, 0, 0, 0, 0, 0, 0, 0, 0, 0, 0, 0, 0, 0, 0,\n",
              "        0, 0, 0, 0, 0, 0, 0, 0, 0, 0, 0, 0, 0, 0, 0, 0, 0, 0, 0, 0, 0, 0,\n",
              "        0, 0, 0, 0, 0, 0, 0, 0, 0, 0, 0, 0, 0, 0, 0, 0, 0, 0, 0, 0, 0, 0,\n",
              "        0, 0, 0, 0, 0, 0, 0, 0, 0, 0, 0, 0, 0, 0, 0, 0, 0, 0, 0, 0, 0, 0,\n",
              "        0, 0, 0, 0, 0, 0, 0, 0, 0, 0, 0, 0, 0, 0, 0, 0, 0, 0, 0, 0, 0, 0,\n",
              "        0, 0, 0, 0, 0, 0, 0, 0, 0, 0, 0, 0, 0, 0, 0, 0, 0, 0, 0, 0, 0, 0,\n",
              "        0, 0, 0, 0, 0, 0, 0, 0, 0, 1, 0, 0, 0, 0, 0, 0, 0, 0, 0, 0, 0, 0,\n",
              "        0, 0, 0, 0, 0, 0, 0, 0, 0, 0, 0, 0, 0, 0, 0, 0, 0, 0, 0, 0, 0, 0,\n",
              "        0, 1, 0, 0, 0, 0, 0, 0, 0, 0, 0, 0, 0, 0, 0, 0, 0, 0, 0, 0, 0, 0,\n",
              "        0, 0, 0, 0, 0, 0, 0, 1, 0, 0, 0, 0, 0, 0, 0, 0, 0, 0, 0, 0, 0, 0,\n",
              "        0, 0, 0, 0, 0, 0, 0, 0, 0, 0, 0, 0, 0, 0, 0, 0, 0, 0, 0, 0, 0, 0,\n",
              "        0, 0, 0, 0, 0, 0, 0, 0, 0, 0, 0, 0, 0, 0, 0, 0, 0, 0, 0, 0, 0, 0,\n",
              "        0, 0, 0, 0, 0, 0, 0, 0, 0, 0, 0, 0, 0, 0, 0, 0, 0, 0, 0, 0, 0, 0,\n",
              "        0, 0, 0, 0, 0, 0, 0, 0, 0, 0, 0, 0, 0, 0, 0, 0, 0, 0, 0, 0, 0, 0,\n",
              "        0, 0, 0, 0, 0, 0, 0, 0, 0, 0, 0, 0, 0, 0, 0, 0, 0, 0, 0, 0, 0, 0,\n",
              "        0, 0, 0, 0, 0, 0, 0, 0, 0, 0, 0, 0, 0, 0, 0, 0, 0, 0, 0, 0, 0, 0,\n",
              "        0, 0, 0, 0, 0, 0, 0, 0, 0, 0, 0, 0, 0, 0, 0, 0, 0, 0, 0, 0, 0, 0,\n",
              "        0, 0, 0, 0, 1, 0, 0, 0, 0, 0]])"
            ]
          },
          "metadata": {},
          "execution_count": 8
        }
      ]
    },
    {
      "cell_type": "code",
      "execution_count": null,
      "metadata": {
        "id": "g2kblLWZTOEW",
        "colab": {
          "base_uri": "https://localhost:8080/"
        },
        "outputId": "afec3047-3f5d-436c-a058-269cdd2132a8"
      },
      "outputs": [
        {
          "output_type": "execute_result",
          "data": {
            "text/plain": [
              "[array(['and', 'come', 'down', 'face', 'feel', 'for', 'have', 'heart',\n",
              "        'into', 'life', 'loved', 'making', 'me', 'my', 'on', 'smile',\n",
              "        'sun', 'the', 'you'], dtype='<U15')]"
            ]
          },
          "metadata": {},
          "execution_count": 9
        }
      ],
      "source": [
        "# inverse_transform : 인덱스로 표시되어 있는 단어를 문자로 다시 바꿔서 표현\n",
        "# x_train의 첫번째 데이터에 포함된 단어 확인\n",
        "cv.inverse_transform(x_train_cv[[0]])"
      ]
    },
    {
      "cell_type": "code",
      "source": [
        "# x_train의 첫번째 데이터 확인\n",
        "x_train.head(1)"
      ],
      "metadata": {
        "id": "BHQgaqCEKL1I",
        "colab": {
          "base_uri": "https://localhost:8080/"
        },
        "outputId": "3da23184-5626-487f-f942-0f8700c8f6b3"
      },
      "execution_count": null,
      "outputs": [
        {
          "output_type": "execute_result",
          "data": {
            "text/plain": [
              "1636    You have come into my life and brought the sun...\n",
              "Name: Message, dtype: object"
            ]
          },
          "metadata": {},
          "execution_count": 10
        }
      ]
    },
    {
      "cell_type": "code",
      "source": [
        "# 인덱스의 단어 확인\n",
        "cv.get_feature_names_out()"
      ],
      "metadata": {
        "id": "z6TbuHeLUiHz",
        "colab": {
          "base_uri": "https://localhost:8080/"
        },
        "outputId": "f4b3e355-c835-44a2-da96-cd0505e0016e"
      },
      "execution_count": null,
      "outputs": [
        {
          "output_type": "execute_result",
          "data": {
            "text/plain": [
              "array(['000', '04', '0800', '08000839402', '08000930705', '08712460324',\n",
              "       '10', '100', '1000', '10p', '11', '12hrs', '150', '150p', '150ppm',\n",
              "       '16', '18', '1st', '20', '200', '2000', '2003', '250', '2day',\n",
              "       '2lands', '2nd', '30', '350', '50', '500', '5000', '50p', '750',\n",
              "       '800', '8007', '86688', '87066', 'able', 'about', 'abt', 'ac',\n",
              "       'account', 'across', 'actually', 'address', 'aft', 'after',\n",
              "       'afternoon', 'again', 'age', 'age16', 'ago', 'ah', 'aight', 'all',\n",
              "       'almost', 'alone', 'already', 'alright', 'also', 'always', 'am',\n",
              "       'amp', 'an', 'and', 'angry', 'another', 'ans', 'answer', 'any',\n",
              "       'anyone', 'anything', 'anytime', 'anyway', 'apply', 'ard', 'are',\n",
              "       'area', 'around', 'as', 'asap', 'ask', 'askd', 'asked', 'ass',\n",
              "       'at', 'attempt', 'auction', 'available', 'await', 'award',\n",
              "       'awarded', 'away', 'awesome', 'b4', 'babe', 'baby', 'back', 'bad',\n",
              "       'bak', 'balance', 'bank', 'bath', 'bb', 'bcoz', 'be', 'beautiful',\n",
              "       'because', 'bed', 'been', 'before', 'being', 'believe', 'best',\n",
              "       'better', 'between', 'big', 'birthday', 'bit', 'bluetooth',\n",
              "       'bonus', 'book', 'booked', 'bored', 'boss', 'both', 'bout', 'box',\n",
              "       'boy', 'boytoy', 'break', 'bring', 'brother', 'bslvyl', 'bt',\n",
              "       'bus', 'busy', 'but', 'buy', 'by', 'cake', 'call', 'call2optout',\n",
              "       'called', 'caller', 'calling', 'calls', 'camcorder', 'came',\n",
              "       'camera', 'can', 'cant', 'car', 'card', 'care', 'carlos', 'case',\n",
              "       'cash', 'cause', 'cd', 'chance', 'change', 'charge', 'charged',\n",
              "       'chat', 'cheap', 'check', 'checking', 'chennai', 'chikku',\n",
              "       'choose', 'claim', 'class', 'close', 'club', 'co', 'code',\n",
              "       'collect', 'collection', 'college', 'colour', 'com', 'come',\n",
              "       'comes', 'comin', 'coming', 'company', 'complimentary', 'confirm',\n",
              "       'congrats', 'congratulations', 'contact', 'content', 'cool',\n",
              "       'correct', 'cos', 'cost', 'could', 'course', 'coz', 'crave',\n",
              "       'crazy', 'credit', 'cs', 'cum', 'cup', 'currently', 'customer',\n",
              "       'da', 'dad', 'darlin', 'darren', 'dat', 'date', 'dating', 'day',\n",
              "       'days', 'de', 'dear', 'decided', 'decimal', 'deep', 'del',\n",
              "       'delivery', 'den', 'details', 'did', 'didn', 'didnt', 'different',\n",
              "       'difficult', 'dinner', 'direct', 'dis', 'disturb', 'dnt', 'do',\n",
              "       'doctor', 'does', 'doesn', 'doesnt', 'doin', 'doing', 'don',\n",
              "       'done', 'dont', 'double', 'down', 'download', 'draw', 'dream',\n",
              "       'dreams', 'drink', 'drive', 'driving', 'drop', 'drugs', 'dude',\n",
              "       'dun', 'dunno', 'each', 'earlier', 'early', 'easy', 'eat', 'eh',\n",
              "       'either', 'else', 'em', 'email', 'end', 'energy', 'enjoy',\n",
              "       'enough', 'enter', 'entered', 'entry', 'especially', 'eve', 'even',\n",
              "       'evening', 'ever', 'every', 'everyone', 'everything', 'ex', 'exam',\n",
              "       'excellent', 'experience', 'expires', 'eyes', 'face', 'fact',\n",
              "       'family', 'fancy', 'fantastic', 'far', 'fast', 'fat', 'feel',\n",
              "       'feeling', 'felt', 'few', 'film', 'final', 'finally', 'find',\n",
              "       'fine', 'fingers', 'finish', 'finished', 'first', 'fone', 'food',\n",
              "       'for', 'forever', 'forget', 'forgot', 'forwarded', 'found', 'fr',\n",
              "       'free', 'freemsg', 'fri', 'friday', 'friend', 'friends',\n",
              "       'friendship', 'frm', 'frnd', 'frnds', 'from', 'fuck', 'fucking',\n",
              "       'full', 'fun', 'funny', 'game', 'games', 'gas', 'gd', 'ge', 'get',\n",
              "       'gets', 'getting', 'getzed', 'gift', 'girl', 'girls', 'give',\n",
              "       'glad', 'go', 'god', 'goes', 'goin', 'going', 'gone', 'gonna',\n",
              "       'good', 'goodmorning', 'goodnight', 'got', 'gr8', 'great', 'grins',\n",
              "       'gt', 'guaranteed', 'gud', 'guess', 'guy', 'guys', 'gym', 'ha',\n",
              "       'had', 'haf', 'haha', 'hair', 'half', 'hand', 'happen', 'happened',\n",
              "       'happening', 'happiness', 'happy', 'hard', 'has', 'hav', 'have',\n",
              "       'haven', 'havent', 'having', 'he', 'head', 'hear', 'heard',\n",
              "       'heart', 'hee', 'hello', 'help', 'her', 'here', 'hey', 'hg', 'hi',\n",
              "       'him', 'his', 'hit', 'hiya', 'hmm', 'hmmm', 'hold', 'holiday',\n",
              "       'home', 'hope', 'hoping', 'hot', 'hour', 'hours', 'house', 'how',\n",
              "       'hows', 'http', 'huh', 'hungry', 'hurt', 'ice', 'id', 'identifier',\n",
              "       'if', 'ill', 'im', 'important', 'in', 'inc', 'india', 'info',\n",
              "       'information', 'into', 'invited', 'ipod', 'is', 'isn', 'it', 'its',\n",
              "       'jay', 'job', 'join', 'jus', 'just', 'juz', 'keep', 'kind',\n",
              "       'kinda', 'kiss', 'knew', 'know', 'knw', 'land', 'landline',\n",
              "       'laptop', 'lar', 'last', 'late', 'later', 'latest', 'ldn', 'least',\n",
              "       'leave', 'leaving', 'left', 'leh', 'lei', 'lesson', 'let', 'lets',\n",
              "       'liao', 'library', 'life', 'like', 'line', 'link', 'listen',\n",
              "       'little', 'live', 'll', 'loads', 'loan', 'log', 'lol', 'long',\n",
              "       'look', 'looking', 'lor', 'lose', 'lost', 'lot', 'lots', 'lovable',\n",
              "       'love', 'loved', 'lovely', 'loving', 'lt', 'ltd', 'luck', 'lucky',\n",
              "       'lunch', 'luv', 'made', 'mail', 'make', 'makes', 'making', 'man',\n",
              "       'many', 'march', 'mate', 'mates', 'may', 'mayb', 'maybe', 'me',\n",
              "       'mean', 'means', 'meant', 'meet', 'meeting', 'message', 'messages',\n",
              "       'met', 'mid', 'midnight', 'might', 'min', 'mind', 'mine', 'mins',\n",
              "       'minute', 'minutes', 'miss', 'missed', 'missing', 'mob', 'mobile',\n",
              "       'mobiles', 'mobileupd8', 'mode', 'mom', 'moment', 'money', 'month',\n",
              "       'months', 'more', 'morning', 'most', 'motorola', 'move', 'movie',\n",
              "       'mp3', 'mr', 'msg', 'msgs', 'mu', 'much', 'mum', 'music', 'must',\n",
              "       'muz', 'my', 'myself', 'na', 'nah', 'name', 'national', 'near',\n",
              "       'need', 'needs', 'net', 'network', 'neva', 'never', 'new', 'news',\n",
              "       'next', 'ni8', 'nice', 'night', 'nite', 'no', 'noe', 'nokia',\n",
              "       'nope', 'normal', 'not', 'nothing', 'now', 'nt', 'number',\n",
              "       'numbers', 'of', 'off', 'offer', 'offers', 'office', 'oh', 'ok',\n",
              "       'okay', 'okie', 'old', 'on', 'once', 'one', 'online', 'only',\n",
              "       'open', 'operator', 'opt', 'or', 'orange', 'orchard', 'order',\n",
              "       'oredi', 'oso', 'other', 'otherwise', 'our', 'out', 'outside',\n",
              "       'over', 'pa', 'pain', 'parents', 'part', 'party', 'pay', 'pc',\n",
              "       'people', 'per', 'person', 'pete', 'phone', 'phones', 'pic',\n",
              "       'pick', 'pics', 'place', 'plan', 'planning', 'plans', 'play',\n",
              "       'player', 'please', 'pls', 'plus', 'plz', 'pm', 'po', 'pobox',\n",
              "       'point', 'points', 'poly', 'poor', 'post', 'pounds', 'pray',\n",
              "       'press', 'pretty', 'price', 'princess', 'private', 'prize', 'prob',\n",
              "       'probably', 'problem', 'project', 'promise', 'pub', 'put',\n",
              "       'question', 'questions', 'quite', 'quiz', 'rakhesh', 'rate', 're',\n",
              "       'reach', 'reached', 'read', 'reading', 'ready', 'real', 'really',\n",
              "       'receive', 'red', 'redeemed', 'remember', 'rental', 'reply',\n",
              "       'replying', 'rest', 'right', 'ring', 'ringtone', 'rite', 'room',\n",
              "       'row', 'run', 'sad', 'sae', 'safe', 'said', 'same', 'sat',\n",
              "       'saturday', 'saw', 'say', 'saying', 'says', 'sch', 'school', 'sea',\n",
              "       'search', 'second', 'secret', 'see', 'seeing', 'selected', 'sell',\n",
              "       'semester', 'send', 'sending', 'sent', 'service', 'services',\n",
              "       'set', 'sexy', 'shall', 'she', 'shit', 'shop', 'shopping', 'short',\n",
              "       'should', 'show', 'shower', 'shows', 'side', 'since', 'sir', 'sis',\n",
              "       'sister', 'sitting', 'sk38xh', 'sleep', 'sleeping', 'slow',\n",
              "       'small', 'smile', 'smiling', 'smoke', 'sms', 'snow', 'so', 'sofa',\n",
              "       'sol', 'some', 'somebody', 'someone', 'something', 'song', 'soon',\n",
              "       'sorry', 'sort', 'sound', 'sounds', 'speak', 'special',\n",
              "       'specially', 'st', 'start', 'started', 'starts', 'statement',\n",
              "       'stay', 'std', 'still', 'stop', 'store', 'story', 'studying',\n",
              "       'stuff', 'stupid', 'suite342', 'sun', 'sunday', 'support',\n",
              "       'supposed', 'sure', 'surprise', 'sweet', 'take', 'takes', 'taking',\n",
              "       'talk', 'talking', 'tc', 'tel', 'tell', 'telling', 'ten', 'terms',\n",
              "       'test', 'text', 'texts', 'th', 'than', 'thank', 'thanks', 'thanx',\n",
              "       'that', 'thats', 'the', 'their', 'them', 'then', 'there', 'these',\n",
              "       'they', 'thing', 'things', 'think', 'thinkin', 'thinking',\n",
              "       'thinks', 'this', 'thk', 'tho', 'those', 'though', 'thought',\n",
              "       'through', 'tht', 'tickets', 'til', 'till', 'time', 'times',\n",
              "       'tired', 'tmr', 'to', 'today', 'todays', 'together', 'told',\n",
              "       'tomo', 'tomorrow', 'tone', 'tones', 'tonight', 'tonite', 'too',\n",
              "       'took', 'top', 'tot', 'touch', 'tough', 'towards', 'town', 'train',\n",
              "       'treat', 'tried', 'trip', 'true', 'trust', 'try', 'trying', 'ts',\n",
              "       'tv', 'two', 'txt', 'txting', 'txts', 'type', 'ugh', 'uk', 'un',\n",
              "       'understand', 'unless', 'unlimited', 'unsubscribe', 'until', 'up',\n",
              "       'update', 'ur', 'urgent', 'us', 'use', 'used', 'usf', 'valentines',\n",
              "       'valid', 'valued', 've', 'very', 'via', 'video', 'visit', 'voice',\n",
              "       'voucher', 'vouchers', 'w1j6hl', 'wait', 'waiting', 'wake', 'walk',\n",
              "       'wan', 'wanna', 'want', 'wanted', 'wants', 'warm', 'was', 'wasn',\n",
              "       'wat', 'watch', 'watching', 'way', 'we', 'week', 'weekend',\n",
              "       'weekly', 'weeks', 'welcome', 'well', 'wen', 'went', 'were',\n",
              "       'what', 'whatever', 'whats', 'when', 'whenever', 'where', 'which',\n",
              "       'while', 'who', 'whole', 'why', 'wid', 'wif', 'wife', 'wil',\n",
              "       'will', 'win', 'wine', 'winner', 'wish', 'wit', 'with', 'within',\n",
              "       'without', 'wk', 'wkly', 'woke', 'won', 'wonderful', 'wont',\n",
              "       'word', 'words', 'work', 'working', 'world', 'worry', 'worth',\n",
              "       'wot', 'would', 'wow', 'write', 'wrong', 'www', 'xmas', 'xx',\n",
              "       'xxx', 'xy', 'ya', 'yar', 'yeah', 'year', 'years', 'yep', 'yes',\n",
              "       'yesterday', 'yet', 'yo', 'you', 'your', 'yours', 'yourself', 'yr',\n",
              "       'yup'], dtype=object)"
            ]
          },
          "metadata": {},
          "execution_count": 11
        }
      ]
    },
    {
      "cell_type": "code",
      "source": [
        "# 단어 개수 확인\n",
        "len(cv.get_feature_names_out())"
      ],
      "metadata": {
        "id": "9sEL6p-5VIuw",
        "colab": {
          "base_uri": "https://localhost:8080/"
        },
        "outputId": "910c72e0-1ad5-417d-ccd5-8a6e9db8009d"
      },
      "execution_count": null,
      "outputs": [
        {
          "output_type": "execute_result",
          "data": {
            "text/plain": [
              "1000"
            ]
          },
          "metadata": {},
          "execution_count": 12
        }
      ]
    },
    {
      "cell_type": "markdown",
      "metadata": {
        "id": "b8z51jBATOEZ"
      },
      "source": [
        "#### 베르누이 나이브베이즈 분류"
      ]
    },
    {
      "cell_type": "code",
      "execution_count": null,
      "metadata": {
        "id": "v2jcFeErTOEZ",
        "colab": {
          "base_uri": "https://localhost:8080/",
          "height": 74
        },
        "outputId": "cc42651a-0991-4ccf-c586-8745d9136459"
      },
      "outputs": [
        {
          "output_type": "execute_result",
          "data": {
            "text/plain": [
              "BernoulliNB()"
            ],
            "text/html": [
              "<style>#sk-container-id-1 {color: black;background-color: white;}#sk-container-id-1 pre{padding: 0;}#sk-container-id-1 div.sk-toggleable {background-color: white;}#sk-container-id-1 label.sk-toggleable__label {cursor: pointer;display: block;width: 100%;margin-bottom: 0;padding: 0.3em;box-sizing: border-box;text-align: center;}#sk-container-id-1 label.sk-toggleable__label-arrow:before {content: \"▸\";float: left;margin-right: 0.25em;color: #696969;}#sk-container-id-1 label.sk-toggleable__label-arrow:hover:before {color: black;}#sk-container-id-1 div.sk-estimator:hover label.sk-toggleable__label-arrow:before {color: black;}#sk-container-id-1 div.sk-toggleable__content {max-height: 0;max-width: 0;overflow: hidden;text-align: left;background-color: #f0f8ff;}#sk-container-id-1 div.sk-toggleable__content pre {margin: 0.2em;color: black;border-radius: 0.25em;background-color: #f0f8ff;}#sk-container-id-1 input.sk-toggleable__control:checked~div.sk-toggleable__content {max-height: 200px;max-width: 100%;overflow: auto;}#sk-container-id-1 input.sk-toggleable__control:checked~label.sk-toggleable__label-arrow:before {content: \"▾\";}#sk-container-id-1 div.sk-estimator input.sk-toggleable__control:checked~label.sk-toggleable__label {background-color: #d4ebff;}#sk-container-id-1 div.sk-label input.sk-toggleable__control:checked~label.sk-toggleable__label {background-color: #d4ebff;}#sk-container-id-1 input.sk-hidden--visually {border: 0;clip: rect(1px 1px 1px 1px);clip: rect(1px, 1px, 1px, 1px);height: 1px;margin: -1px;overflow: hidden;padding: 0;position: absolute;width: 1px;}#sk-container-id-1 div.sk-estimator {font-family: monospace;background-color: #f0f8ff;border: 1px dotted black;border-radius: 0.25em;box-sizing: border-box;margin-bottom: 0.5em;}#sk-container-id-1 div.sk-estimator:hover {background-color: #d4ebff;}#sk-container-id-1 div.sk-parallel-item::after {content: \"\";width: 100%;border-bottom: 1px solid gray;flex-grow: 1;}#sk-container-id-1 div.sk-label:hover label.sk-toggleable__label {background-color: #d4ebff;}#sk-container-id-1 div.sk-serial::before {content: \"\";position: absolute;border-left: 1px solid gray;box-sizing: border-box;top: 0;bottom: 0;left: 50%;z-index: 0;}#sk-container-id-1 div.sk-serial {display: flex;flex-direction: column;align-items: center;background-color: white;padding-right: 0.2em;padding-left: 0.2em;position: relative;}#sk-container-id-1 div.sk-item {position: relative;z-index: 1;}#sk-container-id-1 div.sk-parallel {display: flex;align-items: stretch;justify-content: center;background-color: white;position: relative;}#sk-container-id-1 div.sk-item::before, #sk-container-id-1 div.sk-parallel-item::before {content: \"\";position: absolute;border-left: 1px solid gray;box-sizing: border-box;top: 0;bottom: 0;left: 50%;z-index: -1;}#sk-container-id-1 div.sk-parallel-item {display: flex;flex-direction: column;z-index: 1;position: relative;background-color: white;}#sk-container-id-1 div.sk-parallel-item:first-child::after {align-self: flex-end;width: 50%;}#sk-container-id-1 div.sk-parallel-item:last-child::after {align-self: flex-start;width: 50%;}#sk-container-id-1 div.sk-parallel-item:only-child::after {width: 0;}#sk-container-id-1 div.sk-dashed-wrapped {border: 1px dashed gray;margin: 0 0.4em 0.5em 0.4em;box-sizing: border-box;padding-bottom: 0.4em;background-color: white;}#sk-container-id-1 div.sk-label label {font-family: monospace;font-weight: bold;display: inline-block;line-height: 1.2em;}#sk-container-id-1 div.sk-label-container {text-align: center;}#sk-container-id-1 div.sk-container {/* jupyter's `normalize.less` sets `[hidden] { display: none; }` but bootstrap.min.css set `[hidden] { display: none !important; }` so we also need the `!important` here to be able to override the default hidden behavior on the sphinx rendered scikit-learn.org. See: https://github.com/scikit-learn/scikit-learn/issues/21755 */display: inline-block !important;position: relative;}#sk-container-id-1 div.sk-text-repr-fallback {display: none;}</style><div id=\"sk-container-id-1\" class=\"sk-top-container\"><div class=\"sk-text-repr-fallback\"><pre>BernoulliNB()</pre><b>In a Jupyter environment, please rerun this cell to show the HTML representation or trust the notebook. <br />On GitHub, the HTML representation is unable to render, please try loading this page with nbviewer.org.</b></div><div class=\"sk-container\" hidden><div class=\"sk-item\"><div class=\"sk-estimator sk-toggleable\"><input class=\"sk-toggleable__control sk-hidden--visually\" id=\"sk-estimator-id-1\" type=\"checkbox\" checked><label for=\"sk-estimator-id-1\" class=\"sk-toggleable__label sk-toggleable__label-arrow\">BernoulliNB</label><div class=\"sk-toggleable__content\"><pre>BernoulliNB()</pre></div></div></div></div></div>"
            ]
          },
          "metadata": {},
          "execution_count": 13
        }
      ],
      "source": [
        "# BernoulliNB 모델 생성/학습\n",
        "nb_clf = BernoulliNB()\n",
        "nb_clf.fit(x_train_cv, y_train)"
      ]
    },
    {
      "cell_type": "code",
      "source": [
        "# fit_transform 함수로 x_test 데이터를 변경해 array 로 변환하여 각 단어의 빈도 수를 기록\n",
        "x_test_cv = cv.fit_transform(x_test)"
      ],
      "metadata": {
        "id": "h-w5OjfNK54X"
      },
      "execution_count": null,
      "outputs": []
    },
    {
      "cell_type": "code",
      "execution_count": null,
      "metadata": {
        "id": "Trq8k-7lTOEb"
      },
      "outputs": [],
      "source": [
        "# 모델에 test 데이터 넣어서 결과 예측\n",
        "y_pred = nb_clf.predict(x_test_cv)"
      ]
    },
    {
      "cell_type": "code",
      "execution_count": null,
      "metadata": {
        "id": "VzbLci5xTOEb",
        "colab": {
          "base_uri": "https://localhost:8080/"
        },
        "outputId": "aab1822d-6dd0-43da-f3db-5ccab736676c"
      },
      "outputs": [
        {
          "output_type": "execute_result",
          "data": {
            "text/plain": [
              "0.8086124401913876"
            ]
          },
          "metadata": {},
          "execution_count": 16
        }
      ],
      "source": [
        "# 정확도 확인\n",
        "accuracy_score(y_test, y_pred)"
      ]
    },
    {
      "cell_type": "code",
      "execution_count": null,
      "metadata": {
        "id": "satLeEMPTOEb"
      },
      "outputs": [],
      "source": []
    },
    {
      "cell_type": "code",
      "execution_count": null,
      "metadata": {
        "id": "q5s9oO4PTOEb"
      },
      "outputs": [],
      "source": []
    },
    {
      "cell_type": "code",
      "execution_count": null,
      "metadata": {
        "id": "JgoV7p7DTOEc"
      },
      "outputs": [],
      "source": []
    },
    {
      "cell_type": "code",
      "execution_count": null,
      "metadata": {
        "id": "jhc9V4IITOEc"
      },
      "outputs": [],
      "source": []
    },
    {
      "cell_type": "code",
      "execution_count": null,
      "metadata": {
        "id": "TigaFD4_TOEc"
      },
      "outputs": [],
      "source": []
    },
    {
      "cell_type": "code",
      "execution_count": null,
      "metadata": {
        "id": "-MfH2MRqTOEc"
      },
      "outputs": [],
      "source": []
    },
    {
      "cell_type": "code",
      "execution_count": null,
      "metadata": {
        "id": "PM3kQ560TOEd"
      },
      "outputs": [],
      "source": []
    },
    {
      "cell_type": "code",
      "execution_count": null,
      "metadata": {
        "id": "DppJ0zZhTOEd"
      },
      "outputs": [],
      "source": []
    },
    {
      "cell_type": "code",
      "execution_count": null,
      "metadata": {
        "id": "qW8oQ2UTTOEd"
      },
      "outputs": [],
      "source": [
        "import nltk\n",
        "nltk.download('stopwords')"
      ]
    },
    {
      "cell_type": "code",
      "execution_count": null,
      "metadata": {
        "id": "BrcFTd81TOEd"
      },
      "outputs": [],
      "source": [
        "from nltk.corpus import stopwords\n",
        "\n",
        "sw = stopwords.words(\"english\")"
      ]
    },
    {
      "cell_type": "code",
      "execution_count": null,
      "metadata": {
        "id": "4_-l6ukgTOEe"
      },
      "outputs": [],
      "source": [
        "cv2 = CountVectorizer(stop_words=sw, max_features=1000, binary=True)\n",
        "x_train_cv2 = cv2.fit_transform(x_train)"
      ]
    },
    {
      "cell_type": "code",
      "execution_count": null,
      "metadata": {
        "id": "AT0TIJtxTOEe"
      },
      "outputs": [],
      "source": [
        "encoded = x_train_cv2.toarray()\n",
        "encoded"
      ]
    },
    {
      "cell_type": "code",
      "execution_count": null,
      "metadata": {
        "id": "yozlDQ2jTOEe"
      },
      "outputs": [],
      "source": [
        "cv2.inverse_transform(encoded[[0]])"
      ]
    },
    {
      "cell_type": "code",
      "execution_count": null,
      "metadata": {
        "id": "Oxm9PKx9TOEf"
      },
      "outputs": [],
      "source": [
        "cv2.get_feature_names_out()"
      ]
    },
    {
      "cell_type": "markdown",
      "metadata": {
        "id": "taQLej9YTOEf"
      },
      "source": [
        "#### 베르누이 나이브베이즈 분류"
      ]
    },
    {
      "cell_type": "code",
      "execution_count": null,
      "metadata": {
        "id": "OMp2Tu7nTOEf"
      },
      "outputs": [],
      "source": [
        "nb_clf2 = BernoulliNB()\n",
        "\n",
        "nb_clf2.fit(x_train_cv2,y_train)"
      ]
    },
    {
      "cell_type": "code",
      "execution_count": null,
      "metadata": {
        "id": "PNM4PUMjTOEf"
      },
      "outputs": [],
      "source": [
        "x_test_cv2 = cv2.fit_transform(x_test)"
      ]
    },
    {
      "cell_type": "code",
      "execution_count": null,
      "metadata": {
        "id": "1v20xYaMTOEg"
      },
      "outputs": [],
      "source": [
        "encoded2 = x_test_cv2.toarray()\n",
        "encoded2"
      ]
    },
    {
      "cell_type": "code",
      "execution_count": null,
      "metadata": {
        "id": "t_NU2eSJTOEg"
      },
      "outputs": [],
      "source": [
        "pred2 = nb_clf2.predict(x_test_cv2)"
      ]
    },
    {
      "cell_type": "code",
      "execution_count": null,
      "metadata": {
        "id": "Ae9FuY1OTOEg"
      },
      "outputs": [],
      "source": [
        "accuracy_score(y_test, pred2)"
      ]
    },
    {
      "cell_type": "code",
      "execution_count": null,
      "metadata": {
        "id": "k7WzWcFwTOEh"
      },
      "outputs": [],
      "source": []
    }
  ],
  "metadata": {
    "kernelspec": {
      "display_name": "Python 3",
      "language": "python",
      "name": "python3"
    },
    "language_info": {
      "codemirror_mode": {
        "name": "ipython",
        "version": 3
      },
      "file_extension": ".py",
      "mimetype": "text/x-python",
      "name": "python",
      "nbconvert_exporter": "python",
      "pygments_lexer": "ipython3",
      "version": "3.8.8"
    },
    "colab": {
      "provenance": [],
      "include_colab_link": true
    }
  },
  "nbformat": 4,
  "nbformat_minor": 0
}